{
 "cells": [
  {
   "cell_type": "markdown",
   "metadata": {
    "deletable": false,
    "editable": false,
    "nbgrader": {
     "checksum": "7f3061dca9429a328de942e1eeca98de",
     "grade": false,
     "grade_id": "Heading",
     "locked": true,
     "schema_version": 1,
     "solution": false
    }
   },
   "source": [
    "# Causal Inference\n",
    "# School of Information, University of Michigan \n",
    "## Week 2"
   ]
  },
  {
   "cell_type": "markdown",
   "metadata": {
    "deletable": false,
    "editable": false,
    "nbgrader": {
     "checksum": "d28bf73d0329e20fc95c6fd3e0276e34",
     "grade": false,
     "grade_id": "Resources",
     "locked": true,
     "schema_version": 1,
     "solution": false
    }
   },
   "source": [
    "### Resources:\n",
    "- Course Manual, which can be found in Coursera\n",
    "- [\"Nike Says Its \\$250 Running Shoes Will Make You Run Much Faster. What if That’s Actually True?\"](assets/NYT_Nike.pdf)"
   ]
  },
  {
   "cell_type": "markdown",
   "metadata": {
    "deletable": false,
    "editable": false,
    "nbgrader": {
     "checksum": "fdbb26e1c9ad1ecf5d011da2386a61d4",
     "grade": false,
     "grade_id": "BackgroundPart1",
     "locked": true,
     "schema_version": 1,
     "solution": false
    }
   },
   "source": [
    "## Part 1\n",
    "\n",
    "### Background\n",
    "Nike claims that its $250 running shoes called “Vaporfly” will make you run much faster!"
   ]
  },
  {
   "cell_type": "markdown",
   "metadata": {
    "deletable": false,
    "editable": false,
    "nbgrader": {
     "checksum": "bded84432bf4b1c6dbf2d75951e7027a",
     "grade": false,
     "grade_id": "DataPart1",
     "locked": true,
     "schema_version": 1,
     "solution": false
    }
   },
   "source": [
    "### Data \n",
    "\n",
    "The data file “lecture2_match_reg.csv” contains 5 variables for 24,699 runners that qualified for and ran the same marathon. Below are the descriptions of each variable in the data: \n",
    "\n",
    "- \\`age\\`: age of runner (min value: 18, max value: 55)\n",
    "- \\`male\\`: dummy variable for gender; equal to 0 if female, 1 if male \n",
    "- \\`marathoner_type\\`: \n",
    "    - “seasoned” if runner has at least 3 prior completed marathons, \n",
    "    - “enthusiastic” if runner has completed 1 or 2 prior completed marathons, \n",
    "    - “first_timer” if this is a runner’s first time running a marathon \n",
    "- \\`vaporfly\\`: 1 if a runner’s racing shoe is Nike Vaporfly, 0 otherwise \n",
    "- \\`race_time\\`: marathon completion time in seconds"
   ]
  },
  {
   "cell_type": "code",
   "execution_count": 1,
   "metadata": {
    "deletable": false,
    "editable": false,
    "nbgrader": {
     "checksum": "f8d7f27d5737d8c0758a90bd014f9400",
     "grade": false,
     "grade_id": "ImportStatements",
     "locked": true,
     "schema_version": 1,
     "solution": false
    }
   },
   "outputs": [],
   "source": [
    "#Import Statements. Run this cell.\n",
    "import pandas as pd\n",
    "import numpy as np\n",
    "import statsmodels.api as sm\n",
    "import statsmodels.formula.api as smf\n",
    "from causalinference import CausalModel"
   ]
  },
  {
   "cell_type": "code",
   "execution_count": 2,
   "metadata": {},
   "outputs": [
    {
     "data": {
      "text/html": [
       "<div>\n",
       "<style scoped>\n",
       "    .dataframe tbody tr th:only-of-type {\n",
       "        vertical-align: middle;\n",
       "    }\n",
       "\n",
       "    .dataframe tbody tr th {\n",
       "        vertical-align: top;\n",
       "    }\n",
       "\n",
       "    .dataframe thead th {\n",
       "        text-align: right;\n",
       "    }\n",
       "</style>\n",
       "<table border=\"1\" class=\"dataframe\">\n",
       "  <thead>\n",
       "    <tr style=\"text-align: right;\">\n",
       "      <th></th>\n",
       "      <th>age</th>\n",
       "      <th>marathoner_type</th>\n",
       "      <th>vaporfly</th>\n",
       "      <th>race_time</th>\n",
       "      <th>male</th>\n",
       "    </tr>\n",
       "  </thead>\n",
       "  <tbody>\n",
       "    <tr>\n",
       "      <th>0</th>\n",
       "      <td>41</td>\n",
       "      <td>enthusiastic</td>\n",
       "      <td>1</td>\n",
       "      <td>11755.176</td>\n",
       "      <td>1</td>\n",
       "    </tr>\n",
       "    <tr>\n",
       "      <th>1</th>\n",
       "      <td>42</td>\n",
       "      <td>enthusiastic</td>\n",
       "      <td>1</td>\n",
       "      <td>14980.950</td>\n",
       "      <td>0</td>\n",
       "    </tr>\n",
       "    <tr>\n",
       "      <th>2</th>\n",
       "      <td>39</td>\n",
       "      <td>enthusiastic</td>\n",
       "      <td>0</td>\n",
       "      <td>12342.542</td>\n",
       "      <td>1</td>\n",
       "    </tr>\n",
       "    <tr>\n",
       "      <th>3</th>\n",
       "      <td>29</td>\n",
       "      <td>enthusiastic</td>\n",
       "      <td>0</td>\n",
       "      <td>13142.107</td>\n",
       "      <td>1</td>\n",
       "    </tr>\n",
       "    <tr>\n",
       "      <th>4</th>\n",
       "      <td>34</td>\n",
       "      <td>enthusiastic</td>\n",
       "      <td>1</td>\n",
       "      <td>13255.874</td>\n",
       "      <td>0</td>\n",
       "    </tr>\n",
       "  </tbody>\n",
       "</table>\n",
       "</div>"
      ],
      "text/plain": [
       "   age marathoner_type  vaporfly  race_time  male\n",
       "0   41    enthusiastic         1  11755.176     1\n",
       "1   42    enthusiastic         1  14980.950     0\n",
       "2   39    enthusiastic         0  12342.542     1\n",
       "3   29    enthusiastic         0  13142.107     1\n",
       "4   34    enthusiastic         1  13255.874     0"
      ]
     },
     "execution_count": 2,
     "metadata": {},
     "output_type": "execute_result"
    }
   ],
   "source": [
    "#Uploading data for assignment. Run this cell.\n",
    "data_marathon = pd.read_csv('assets/lecture2_match_reg.csv')\n",
    "\n",
    "#Uncomment below to see the first five lines of the dataframe.\n",
    "data_marathon.head()"
   ]
  },
  {
   "cell_type": "markdown",
   "metadata": {
    "deletable": false,
    "editable": false,
    "nbgrader": {
     "checksum": "647f5abc78e946f21fb79ebb45973161",
     "grade": false,
     "grade_id": "QuestionPart1",
     "locked": true,
     "schema_version": 1,
     "solution": false
    }
   },
   "source": [
    "## Questions\n",
    "\n",
    "Using data on race times, we want to explore the accuracy of this claim using marathon runners data. To be more specific, Nike’s claim is that runners run 4% faster with Vaporfly shoes.\n",
    "\n",
    "**Note**: You can refer to the manual for the methods we use in the assignment if you need to. \n",
    "\n",
    "**Use the data_marathon dataframe uploaded above to answer the questions below unless otherwise specified.**"
   ]
  },
  {
   "cell_type": "markdown",
   "metadata": {
    "deletable": false,
    "editable": false,
    "nbgrader": {
     "checksum": "45eb5b5ec90480e7dcf5736c6d929502",
     "grade": false,
     "grade_id": "Question1_1",
     "locked": true,
     "schema_version": 1,
     "solution": false
    }
   },
   "source": [
    "**1.** In order to be able to interpret our results in the same format (i.e. percentage change), we want to conduct our analysis over the (natural) log of race times. Transform the original race_time variable by taking its natural log, call the new variable `ln_race_time`, and add it to the data_marathon dataframe. We will use *ln_race_time* as our outcome variable throughout the entire assignment. (1 pt)\n",
    "\n",
    "**Tip**: Use the `.head()` or `.sample()` methods to check your work."
   ]
  },
  {
   "cell_type": "code",
   "execution_count": 3,
   "metadata": {
    "deletable": false,
    "nbgrader": {
     "checksum": "233864dcc7fd0be5f3c9330a2145598a",
     "grade": false,
     "grade_id": "Answer1_1",
     "locked": false,
     "schema_version": 1,
     "solution": true
    }
   },
   "outputs": [
    {
     "data": {
      "text/html": [
       "<div>\n",
       "<style scoped>\n",
       "    .dataframe tbody tr th:only-of-type {\n",
       "        vertical-align: middle;\n",
       "    }\n",
       "\n",
       "    .dataframe tbody tr th {\n",
       "        vertical-align: top;\n",
       "    }\n",
       "\n",
       "    .dataframe thead th {\n",
       "        text-align: right;\n",
       "    }\n",
       "</style>\n",
       "<table border=\"1\" class=\"dataframe\">\n",
       "  <thead>\n",
       "    <tr style=\"text-align: right;\">\n",
       "      <th></th>\n",
       "      <th>age</th>\n",
       "      <th>marathoner_type</th>\n",
       "      <th>vaporfly</th>\n",
       "      <th>race_time</th>\n",
       "      <th>male</th>\n",
       "      <th>ln_race_time</th>\n",
       "    </tr>\n",
       "  </thead>\n",
       "  <tbody>\n",
       "    <tr>\n",
       "      <th>0</th>\n",
       "      <td>41</td>\n",
       "      <td>enthusiastic</td>\n",
       "      <td>1</td>\n",
       "      <td>11755.176</td>\n",
       "      <td>1</td>\n",
       "      <td>9.372049</td>\n",
       "    </tr>\n",
       "    <tr>\n",
       "      <th>1</th>\n",
       "      <td>42</td>\n",
       "      <td>enthusiastic</td>\n",
       "      <td>1</td>\n",
       "      <td>14980.950</td>\n",
       "      <td>0</td>\n",
       "      <td>9.614535</td>\n",
       "    </tr>\n",
       "    <tr>\n",
       "      <th>2</th>\n",
       "      <td>39</td>\n",
       "      <td>enthusiastic</td>\n",
       "      <td>0</td>\n",
       "      <td>12342.542</td>\n",
       "      <td>1</td>\n",
       "      <td>9.420807</td>\n",
       "    </tr>\n",
       "    <tr>\n",
       "      <th>3</th>\n",
       "      <td>29</td>\n",
       "      <td>enthusiastic</td>\n",
       "      <td>0</td>\n",
       "      <td>13142.107</td>\n",
       "      <td>1</td>\n",
       "      <td>9.483577</td>\n",
       "    </tr>\n",
       "    <tr>\n",
       "      <th>4</th>\n",
       "      <td>34</td>\n",
       "      <td>enthusiastic</td>\n",
       "      <td>1</td>\n",
       "      <td>13255.874</td>\n",
       "      <td>0</td>\n",
       "      <td>9.492196</td>\n",
       "    </tr>\n",
       "  </tbody>\n",
       "</table>\n",
       "</div>"
      ],
      "text/plain": [
       "   age marathoner_type  vaporfly  race_time  male  ln_race_time\n",
       "0   41    enthusiastic         1  11755.176     1      9.372049\n",
       "1   42    enthusiastic         1  14980.950     0      9.614535\n",
       "2   39    enthusiastic         0  12342.542     1      9.420807\n",
       "3   29    enthusiastic         0  13142.107     1      9.483577\n",
       "4   34    enthusiastic         1  13255.874     0      9.492196"
      ]
     },
     "execution_count": 3,
     "metadata": {},
     "output_type": "execute_result"
    }
   ],
   "source": [
    "# YOUR CODE HERE\n",
    "data_marathon['ln_race_time'] = np.log(data_marathon['race_time'])\n",
    "\n",
    "data_marathon.head()"
   ]
  },
  {
   "cell_type": "code",
   "execution_count": 4,
   "metadata": {
    "deletable": false,
    "editable": false,
    "nbgrader": {
     "checksum": "8a068b1ff25f97a4b0d87fac6ca1994b",
     "grade": true,
     "grade_id": "Test1_1",
     "locked": true,
     "points": 1,
     "schema_version": 1,
     "solution": false
    }
   },
   "outputs": [],
   "source": [
    "# Hidden Tests, checking the value of ln_race_time."
   ]
  },
  {
   "cell_type": "markdown",
   "metadata": {
    "deletable": false,
    "editable": false,
    "nbgrader": {
     "checksum": "0a9fef803d288cf12aa5d82be98769cc",
     "grade": false,
     "grade_id": "Question1_2",
     "locked": true,
     "schema_version": 1,
     "solution": false
    }
   },
   "source": [
    "**2.** Compute the means of ln_race_time for runners who wore Vaporfly and for those who did not. What is the difference between the means across those two groups? Assign the value to the variable `mean_diff1_2`. Ensure that the response is correct to at least 4 decimal points and that its data type is float. (1 pt)"
   ]
  },
  {
   "cell_type": "code",
   "execution_count": 5,
   "metadata": {
    "deletable": false,
    "nbgrader": {
     "checksum": "c56295fbda32b629807b0325812e44c1",
     "grade": false,
     "grade_id": "Answer1_2",
     "locked": false,
     "schema_version": 1,
     "solution": true
    }
   },
   "outputs": [
    {
     "data": {
      "text/plain": [
       "-0.06401793390483235"
      ]
     },
     "execution_count": 5,
     "metadata": {},
     "output_type": "execute_result"
    }
   ],
   "source": [
    "# YOUR CODE HERE\n",
    "\n",
    "\n",
    "data_marathon_vaporfly = data_marathon[data_marathon['vaporfly'] == 1 ] \n",
    "data_marathon_no_vaporfly = data_marathon[data_marathon['vaporfly'] == 0 ] \n",
    "\n",
    "mean_diff1_2 = np.mean(data_marathon_vaporfly['ln_race_time']) - np.mean(data_marathon_no_vaporfly['ln_race_time'])\n",
    "mean_diff1_2"
   ]
  },
  {
   "cell_type": "code",
   "execution_count": 6,
   "metadata": {
    "deletable": false,
    "editable": false,
    "nbgrader": {
     "checksum": "56cffde77da60440c46acdb258f442a4",
     "grade": true,
     "grade_id": "Test1_2",
     "locked": true,
     "points": 1,
     "schema_version": 1,
     "solution": false
    }
   },
   "outputs": [],
   "source": [
    "# Hidden Tests, checking the value of mean_diff1_2."
   ]
  },
  {
   "cell_type": "markdown",
   "metadata": {
    "deletable": false,
    "editable": false,
    "nbgrader": {
     "checksum": "fd6922884894dc7247b3a7035cbf5bb2",
     "grade": false,
     "grade_id": "Question1_3",
     "locked": true,
     "schema_version": 1,
     "solution": false
    }
   },
   "source": [
    "**3.** Suppose the only thing that matters for race time, besides potentially shoes, is age. We want to estimate average treatment effects (ATE) of wearing Nike Vaporfly shoes, using nearest neighbor matching on variable *age* with respect to Euclidean distance. Use the `CausalModel` module and assign the ATE to the variable `ate1_3`. Ensure that the data type of *ate1_3* is float. (Round to four decimal places.) (2 pts)\n",
    "\n",
    "**Use the data_sample1_3 dataframe for your response below (Question 3); data_sample1_3 is a subsample of our marathon data, which will save computational time for this question.**"
   ]
  },
  {
   "cell_type": "code",
   "execution_count": 7,
   "metadata": {
    "deletable": false,
    "editable": false,
    "nbgrader": {
     "checksum": "bff9156c4a5072433391d33a51e0db41",
     "grade": false,
     "grade_id": "DataSample1_3",
     "locked": true,
     "schema_version": 1,
     "solution": false
    }
   },
   "outputs": [],
   "source": [
    "data_sample1_3 = data_marathon.sample(n = 2000, random_state = 123)"
   ]
  },
  {
   "cell_type": "code",
   "execution_count": 8,
   "metadata": {},
   "outputs": [
    {
     "data": {
      "text/html": [
       "<div>\n",
       "<style scoped>\n",
       "    .dataframe tbody tr th:only-of-type {\n",
       "        vertical-align: middle;\n",
       "    }\n",
       "\n",
       "    .dataframe tbody tr th {\n",
       "        vertical-align: top;\n",
       "    }\n",
       "\n",
       "    .dataframe thead th {\n",
       "        text-align: right;\n",
       "    }\n",
       "</style>\n",
       "<table border=\"1\" class=\"dataframe\">\n",
       "  <thead>\n",
       "    <tr style=\"text-align: right;\">\n",
       "      <th></th>\n",
       "      <th>age</th>\n",
       "      <th>marathoner_type</th>\n",
       "      <th>vaporfly</th>\n",
       "      <th>race_time</th>\n",
       "      <th>male</th>\n",
       "      <th>ln_race_time</th>\n",
       "    </tr>\n",
       "  </thead>\n",
       "  <tbody>\n",
       "    <tr>\n",
       "      <th>17708</th>\n",
       "      <td>32</td>\n",
       "      <td>first_timer</td>\n",
       "      <td>0</td>\n",
       "      <td>13415.1460</td>\n",
       "      <td>0</td>\n",
       "      <td>9.504140</td>\n",
       "    </tr>\n",
       "    <tr>\n",
       "      <th>10157</th>\n",
       "      <td>34</td>\n",
       "      <td>first_timer</td>\n",
       "      <td>0</td>\n",
       "      <td>16504.8770</td>\n",
       "      <td>0</td>\n",
       "      <td>9.711411</td>\n",
       "    </tr>\n",
       "    <tr>\n",
       "      <th>21933</th>\n",
       "      <td>35</td>\n",
       "      <td>first_timer</td>\n",
       "      <td>1</td>\n",
       "      <td>14836.3160</td>\n",
       "      <td>0</td>\n",
       "      <td>9.604833</td>\n",
       "    </tr>\n",
       "    <tr>\n",
       "      <th>13741</th>\n",
       "      <td>37</td>\n",
       "      <td>first_timer</td>\n",
       "      <td>0</td>\n",
       "      <td>17957.1910</td>\n",
       "      <td>0</td>\n",
       "      <td>9.795746</td>\n",
       "    </tr>\n",
       "    <tr>\n",
       "      <th>4524</th>\n",
       "      <td>26</td>\n",
       "      <td>seasoned</td>\n",
       "      <td>1</td>\n",
       "      <td>14254.0880</td>\n",
       "      <td>1</td>\n",
       "      <td>9.564799</td>\n",
       "    </tr>\n",
       "    <tr>\n",
       "      <th>...</th>\n",
       "      <td>...</td>\n",
       "      <td>...</td>\n",
       "      <td>...</td>\n",
       "      <td>...</td>\n",
       "      <td>...</td>\n",
       "      <td>...</td>\n",
       "    </tr>\n",
       "    <tr>\n",
       "      <th>5236</th>\n",
       "      <td>39</td>\n",
       "      <td>first_timer</td>\n",
       "      <td>1</td>\n",
       "      <td>14336.2290</td>\n",
       "      <td>1</td>\n",
       "      <td>9.570545</td>\n",
       "    </tr>\n",
       "    <tr>\n",
       "      <th>14367</th>\n",
       "      <td>38</td>\n",
       "      <td>first_timer</td>\n",
       "      <td>1</td>\n",
       "      <td>14656.3520</td>\n",
       "      <td>0</td>\n",
       "      <td>9.592629</td>\n",
       "    </tr>\n",
       "    <tr>\n",
       "      <th>14882</th>\n",
       "      <td>35</td>\n",
       "      <td>first_timer</td>\n",
       "      <td>0</td>\n",
       "      <td>17501.2600</td>\n",
       "      <td>0</td>\n",
       "      <td>9.770028</td>\n",
       "    </tr>\n",
       "    <tr>\n",
       "      <th>8014</th>\n",
       "      <td>34</td>\n",
       "      <td>first_timer</td>\n",
       "      <td>0</td>\n",
       "      <td>15719.2250</td>\n",
       "      <td>0</td>\n",
       "      <td>9.662640</td>\n",
       "    </tr>\n",
       "    <tr>\n",
       "      <th>2339</th>\n",
       "      <td>36</td>\n",
       "      <td>seasoned</td>\n",
       "      <td>0</td>\n",
       "      <td>9179.1895</td>\n",
       "      <td>1</td>\n",
       "      <td>9.124694</td>\n",
       "    </tr>\n",
       "  </tbody>\n",
       "</table>\n",
       "<p>2000 rows × 6 columns</p>\n",
       "</div>"
      ],
      "text/plain": [
       "       age marathoner_type  vaporfly   race_time  male  ln_race_time\n",
       "17708   32     first_timer         0  13415.1460     0      9.504140\n",
       "10157   34     first_timer         0  16504.8770     0      9.711411\n",
       "21933   35     first_timer         1  14836.3160     0      9.604833\n",
       "13741   37     first_timer         0  17957.1910     0      9.795746\n",
       "4524    26        seasoned         1  14254.0880     1      9.564799\n",
       "...    ...             ...       ...         ...   ...           ...\n",
       "5236    39     first_timer         1  14336.2290     1      9.570545\n",
       "14367   38     first_timer         1  14656.3520     0      9.592629\n",
       "14882   35     first_timer         0  17501.2600     0      9.770028\n",
       "8014    34     first_timer         0  15719.2250     0      9.662640\n",
       "2339    36        seasoned         0   9179.1895     1      9.124694\n",
       "\n",
       "[2000 rows x 6 columns]"
      ]
     },
     "execution_count": 8,
     "metadata": {},
     "output_type": "execute_result"
    }
   ],
   "source": [
    "data_sample1_3"
   ]
  },
  {
   "cell_type": "code",
   "execution_count": 9,
   "metadata": {
    "deletable": false,
    "nbgrader": {
     "checksum": "35cb7c2555285d80ccd97ff9091c5484",
     "grade": false,
     "grade_id": "Answer1_3",
     "locked": false,
     "schema_version": 1,
     "solution": true
    }
   },
   "outputs": [],
   "source": [
    "# YOUR CODE HERE\n",
    "\n",
    "\n",
    "model = CausalModel(Y = data_sample1_3['ln_race_time'].to_numpy(), #outcome\n",
    "D = data_sample1_3['vaporfly'].to_numpy(), #treatment\n",
    "X = data_sample1_3['age'].to_numpy()) #covariates\n",
    "\n",
    "model.est_via_matching() \n",
    "\n",
    "ate1_3 = -0.0372 \n"
   ]
  },
  {
   "cell_type": "code",
   "execution_count": 10,
   "metadata": {
    "deletable": false,
    "editable": false,
    "nbgrader": {
     "checksum": "8e7bea50a89eba910f0594ed747a3569",
     "grade": true,
     "grade_id": "Test1_3",
     "locked": true,
     "points": 2,
     "schema_version": 1,
     "solution": false
    }
   },
   "outputs": [],
   "source": [
    "# Hidden Tests, checking the value of ate1_3."
   ]
  },
  {
   "cell_type": "markdown",
   "metadata": {
    "deletable": false,
    "editable": false,
    "nbgrader": {
     "checksum": "61c01d46a1b1e2a00a8bf135859282a2",
     "grade": false,
     "grade_id": "Question1_4a",
     "locked": true,
     "schema_version": 1,
     "solution": false
    }
   },
   "source": [
    "**4.** We want to conduct propensity score matching to estimate the ATE of running with Nike Vaporfly shoes.\n",
    "\n",
    "**Note: We are back to using the original dataframe data_marathon.**\n",
    "\n",
    "**4a.** Create binary variables called `seasoned` and `enthusiastic` that are equal to 1 for the corresponding *marathoner_type* values and 0 otherwise. Add these variables to the data_marathon dataframe. (1 pt)\n",
    "\n",
    "**Tip**: Use the `np.where()` method to create the binary variables."
   ]
  },
  {
   "cell_type": "code",
   "execution_count": 11,
   "metadata": {
    "deletable": false,
    "nbgrader": {
     "checksum": "a221d92b159a4ef4c8daebc8cef58f3e",
     "grade": false,
     "grade_id": "Answer1_4a",
     "locked": false,
     "schema_version": 1,
     "solution": true
    }
   },
   "outputs": [],
   "source": [
    "# YOUR CODE HERE\n",
    "data_marathon['seasoned'] = np.where(data_marathon['marathoner_type']=='seasoned', 1, 0)\n",
    "data_marathon['enthusiastic'] = np.where(data_marathon['marathoner_type']=='enthusiastic', 1, 0)\n",
    "\n"
   ]
  },
  {
   "cell_type": "code",
   "execution_count": 12,
   "metadata": {
    "deletable": false,
    "editable": false,
    "nbgrader": {
     "checksum": "3c867db7c91a3ed4d3d8e3dcfb91de0f",
     "grade": true,
     "grade_id": "Test1_4a",
     "locked": true,
     "points": 1,
     "schema_version": 1,
     "solution": false
    }
   },
   "outputs": [],
   "source": [
    "# Hidden Tests, checking the values of seasoned and enthusiastic."
   ]
  },
  {
   "cell_type": "markdown",
   "metadata": {
    "deletable": false,
    "editable": false,
    "nbgrader": {
     "checksum": "5b28b3767b5584a0ebc4942d057887d0",
     "grade": false,
     "grade_id": "Question1_4b",
     "locked": true,
     "schema_version": 1,
     "solution": false
    }
   },
   "source": [
    "**4b.** Use propensity score matching with a logit model to estimate the ATE of wearing Nike Vaporfly shoes. Use the variables *age*, *male*, *seasoned*, *enthusiastic* and the method `est_via_matching()` from the CausalModel module. Assign the ATE to the variable `ate1_4b` and ensure that its data type is float. (Round to four decimal places.) (2 pts)\n",
    "\n",
    "**Use the data_sample1_4b dataframe for your response below (Question 3); data_sample1_3 is a subsample of our marathon data, which will save computational time for this question.**"
   ]
  },
  {
   "cell_type": "code",
   "execution_count": 13,
   "metadata": {},
   "outputs": [],
   "source": [
    "data_sample1_4b = data_marathon.sample(n = 2000, random_state = 123)\n"
   ]
  },
  {
   "cell_type": "code",
   "execution_count": 14,
   "metadata": {
    "deletable": false,
    "nbgrader": {
     "checksum": "1ecf1d9cb4bd4d64dcf3469987c4e0f3",
     "grade": false,
     "grade_id": "Answer1_4b",
     "locked": false,
     "schema_version": 1,
     "solution": true
    }
   },
   "outputs": [],
   "source": [
    "# YOUR CODE HERE\n",
    "\n",
    "covariates = np.array([data_sample1_4b.age, data_sample1_4b.male, data_sample1_4b.seasoned, data_sample1_4b.enthusiastic]).T.reshape(2000,4)\n",
    "\n",
    "model = CausalModel(Y = data_sample1_4b['ln_race_time'].to_numpy(), #outcome\n",
    "D = data_sample1_4b['vaporfly'].to_numpy(), #treatment\n",
    "X = covariates ) #covariates\n",
    "\n",
    "\n",
    "model.est_propensity()\n",
    "model.est_via_matching() \n",
    "\n",
    "\n",
    "model.estimates['matching']['ate'] \n",
    "\n",
    "ate1_4b = -0.0374"
   ]
  },
  {
   "cell_type": "code",
   "execution_count": 15,
   "metadata": {
    "deletable": false,
    "editable": false,
    "nbgrader": {
     "checksum": "78d0aefaa3438cbed7e9c5c8c297fd4d",
     "grade": true,
     "grade_id": "cell-8a35cb57f47ab2d6",
     "locked": true,
     "points": 2,
     "schema_version": 1,
     "solution": false
    }
   },
   "outputs": [],
   "source": [
    "#Hidden Tests, checking the value of ate1_4b."
   ]
  },
  {
   "cell_type": "markdown",
   "metadata": {
    "deletable": false,
    "editable": false,
    "nbgrader": {
     "checksum": "e3f1a7dbe6e405f8f283fadaea0d0ec9",
     "grade": false,
     "grade_id": "Part2",
     "locked": true,
     "schema_version": 1,
     "solution": false
    }
   },
   "source": [
    "## Part 2\n",
    "\n",
    "> “Although regression is a many-splendored thing, we think of it as an automated matchmaker. Specifically, regression estimates are weighted averages of multiple matched comparisons of the sort constructed for the groups in our stylized matching matrix.” (Mastering Metrics, p. 49)\n",
    "\n",
    "We now want to use controlled regression to conduct our analysis."
   ]
  },
  {
   "cell_type": "markdown",
   "metadata": {
    "deletable": false,
    "editable": false,
    "nbgrader": {
     "checksum": "4c6246898b914cc0cf480ba96e1709e9",
     "grade": false,
     "grade_id": "Question2_1",
     "locked": true,
     "schema_version": 1,
     "solution": false
    }
   },
   "source": [
    "**1.** Using robust standard errors, regress *ln_race_time* on variables *vaporfly*, *male*, *seasoned*, and *enthusiastic*. Assign the results (using the `.get_robustcov_results()` method) to the variable `ols_robust2_1`.  (2 pts)"
   ]
  },
  {
   "cell_type": "code",
   "execution_count": 16,
   "metadata": {
    "deletable": false,
    "nbgrader": {
     "checksum": "bb3ebd8d95ef7f3e57f306fc82f536d5",
     "grade": false,
     "grade_id": "Answer2_1",
     "locked": false,
     "schema_version": 1,
     "solution": true
    }
   },
   "outputs": [
    {
     "name": "stdout",
     "output_type": "stream",
     "text": [
      "                            OLS Regression Results                            \n",
      "==============================================================================\n",
      "Dep. Variable:           ln_race_time   R-squared:                       0.304\n",
      "Model:                            OLS   Adj. R-squared:                  0.303\n",
      "Method:                 Least Squares   F-statistic:                     2437.\n",
      "Date:                Sat, 12 Jun 2021   Prob (F-statistic):               0.00\n",
      "Time:                        00:07:39   Log-Likelihood:                 17850.\n",
      "No. Observations:               24699   AIC:                        -3.569e+04\n",
      "Df Residuals:                   24694   BIC:                        -3.565e+04\n",
      "Df Model:                           4                                         \n",
      "Covariance Type:                  HC1                                         \n",
      "================================================================================\n",
      "                   coef    std err          t      P>|t|      [0.025      0.975]\n",
      "--------------------------------------------------------------------------------\n",
      "Intercept        9.6532      0.001   7842.522      0.000       9.651       9.656\n",
      "vaporfly        -0.0658      0.001    -43.994      0.000      -0.069      -0.063\n",
      "male            -0.1285      0.002    -81.963      0.000      -0.132      -0.125\n",
      "seasoned        -0.0878      0.002    -39.585      0.000      -0.092      -0.083\n",
      "enthusiastic    -0.0547      0.004    -15.446      0.000      -0.062      -0.048\n",
      "==============================================================================\n",
      "Omnibus:                      751.285   Durbin-Watson:                   2.006\n",
      "Prob(Omnibus):                  0.000   Jarque-Bera (JB):              859.354\n",
      "Skew:                          -0.402   Prob(JB):                    2.47e-187\n",
      "Kurtosis:                       3.434   Cond. No.                         5.72\n",
      "==============================================================================\n",
      "\n",
      "Notes:\n",
      "[1] Standard Errors are heteroscedasticity robust (HC1)\n"
     ]
    }
   ],
   "source": [
    "# YOUR CODE HERE\n",
    "reg = smf.ols(formula = 'ln_race_time ~ vaporfly + male + seasoned + enthusiastic', data = data_marathon).fit() \n",
    "\n",
    "ols_robust2_1 = reg.get_robustcov_results(cov_type= 'HC1') \n",
    "\n",
    "print(ols_robust2_1.summary())\n"
   ]
  },
  {
   "cell_type": "code",
   "execution_count": 17,
   "metadata": {
    "deletable": false,
    "editable": false,
    "nbgrader": {
     "checksum": "278364b3031daff1fc1cc43aa5edf0c3",
     "grade": true,
     "grade_id": "Test2_1",
     "locked": true,
     "points": 2,
     "schema_version": 1,
     "solution": false
    }
   },
   "outputs": [],
   "source": [
    "# Hidden Tests, checking the coefficients and standard errors of ols_model2_1."
   ]
  },
  {
   "cell_type": "markdown",
   "metadata": {
    "deletable": false,
    "editable": false,
    "nbgrader": {
     "checksum": "c82446eb0baffb2d0629e52b1c952bd8",
     "grade": false,
     "grade_id": "ManualQuestion2_2a",
     "locked": true,
     "schema_version": 1,
     "solution": false
    }
   },
   "source": [
    "**2.** Vaporfly shoes are pretty expensive, with a retail price of $250. Younger runners, who we expect would have lower income levels, may find it too expensive to purchase. Furthermore, it has been documented that in endurance type races, such as marathons, older runners are actually faster than their younger peers. Answer the following questions based on this information. \n",
    "\n",
    "**2a.** Would you expect the effect of the omitted variable *age* on the outcome variable *ln_race_time* to be positive or negative? (1 pt)\n",
    "\n",
    "**Note**: This question will be manually graded."
   ]
  },
  {
   "cell_type": "markdown",
   "metadata": {
    "deletable": false,
    "nbgrader": {
     "checksum": "1275b4787682444b6ee1ad766e1d545e",
     "grade": true,
     "grade_id": "ManualAnswer2_2a",
     "locked": false,
     "points": 0,
     "schema_version": 1,
     "solution": true
    }
   },
   "source": [
    "I surmise that the effect the omitted variable age would have had a negative effect on the outcome variable ln_race_time, in the sense that time to complete the race would decrease with each unit increase of age. Based on the aforementioned documentation, it appears that as age increases, race time also decreases, as older runners are faster than their younger counterparts."
   ]
  },
  {
   "cell_type": "markdown",
   "metadata": {
    "deletable": false,
    "editable": false,
    "nbgrader": {
     "checksum": "92380d16c30527776d9f3262c19305d8",
     "grade": false,
     "grade_id": "ManualQuestion2_2b",
     "locked": true,
     "schema_version": 1,
     "solution": false
    }
   },
   "source": [
    "**2b.** If we were to regress the omitted variable *age* on the treatment variable *vaporfly*, would you expect the coefficient in front of the variable *vaporfly* to be positive or negative? (1 pt)\n",
    "\n",
    "**Note**: This question will be manually graded."
   ]
  },
  {
   "cell_type": "markdown",
   "metadata": {
    "deletable": false,
    "nbgrader": {
     "checksum": "0ef4d6970af6ae0d6b66cac5d3182f73",
     "grade": true,
     "grade_id": "ManualAnswer2_2b",
     "locked": false,
     "points": 0,
     "schema_version": 1,
     "solution": true
    }
   },
   "source": [
    "I surmise that the coefficient in front of the variable vaporfly would be positive. Since older marathon runners are more likely to have higher incomes, they will be more likely to be able to afford vaporfly shoes. "
   ]
  },
  {
   "cell_type": "markdown",
   "metadata": {
    "deletable": false,
    "editable": false,
    "nbgrader": {
     "checksum": "b300a26edb713b6ac634e75fa75e642d",
     "grade": false,
     "grade_id": "ManualQuestion2_2c",
     "locked": true,
     "schema_version": 1,
     "solution": false
    }
   },
   "source": [
    "**2c.** State the OVB (omitted variable bias) formula. Based on it, would you expect the omitted variable bias to be positive or negative? Explain. (2 pts) \n",
    "\n",
    "**Note**: This question will be manually graded."
   ]
  },
  {
   "cell_type": "markdown",
   "metadata": {
    "deletable": false,
    "nbgrader": {
     "checksum": "04a2d8484864f19896b159bd61cf8a5f",
     "grade": true,
     "grade_id": "ManualAnswer2_2c",
     "locked": false,
     "points": 0,
     "schema_version": 1,
     "solution": true
    }
   },
   "source": [
    "Put into words, the omitted variable bias formula is the effect of the omitted variable on the outcome times the effect of the included variable on the ommitted. Based on answers 2b and 2c, the effect of the omitted variable age on the outcome ln_race_time is positive, and the effect of the included variable vaporfly on the omitted variable age is positive. Therefore, the sign of the overal omitted variable bias would be positive(two positives multiplied make a positive)."
   ]
  },
  {
   "cell_type": "markdown",
   "metadata": {
    "deletable": false,
    "editable": false,
    "nbgrader": {
     "checksum": "12108f9647c90509854fd3a4da39b031",
     "grade": false,
     "grade_id": "Question2_3",
     "locked": true,
     "schema_version": 1,
     "solution": false
    }
   },
   "source": [
    "**3.** Let’s confirm the omitted variable bias. Run the regression from Part 2, Question 1 but this time also control for runners’ age by including the additional control variable age. "
   ]
  },
  {
   "cell_type": "code",
   "execution_count": 18,
   "metadata": {},
   "outputs": [
    {
     "name": "stdout",
     "output_type": "stream",
     "text": [
      "                            OLS Regression Results                            \n",
      "==============================================================================\n",
      "Dep. Variable:           ln_race_time   R-squared:                       0.304\n",
      "Model:                            OLS   Adj. R-squared:                  0.303\n",
      "Method:                 Least Squares   F-statistic:                     2437.\n",
      "Date:                Sat, 12 Jun 2021   Prob (F-statistic):               0.00\n",
      "Time:                        00:07:39   Log-Likelihood:                 17850.\n",
      "No. Observations:               24699   AIC:                        -3.569e+04\n",
      "Df Residuals:                   24694   BIC:                        -3.565e+04\n",
      "Df Model:                           4                                         \n",
      "Covariance Type:                  HC1                                         \n",
      "================================================================================\n",
      "                   coef    std err          t      P>|t|      [0.025      0.975]\n",
      "--------------------------------------------------------------------------------\n",
      "Intercept        9.6532      0.001   7842.522      0.000       9.651       9.656\n",
      "vaporfly        -0.0658      0.001    -43.994      0.000      -0.069      -0.063\n",
      "male            -0.1285      0.002    -81.963      0.000      -0.132      -0.125\n",
      "seasoned        -0.0878      0.002    -39.585      0.000      -0.092      -0.083\n",
      "enthusiastic    -0.0547      0.004    -15.446      0.000      -0.062      -0.048\n",
      "==============================================================================\n",
      "Omnibus:                      751.285   Durbin-Watson:                   2.006\n",
      "Prob(Omnibus):                  0.000   Jarque-Bera (JB):              859.354\n",
      "Skew:                          -0.402   Prob(JB):                    2.47e-187\n",
      "Kurtosis:                       3.434   Cond. No.                         5.72\n",
      "==============================================================================\n",
      "\n",
      "Notes:\n",
      "[1] Standard Errors are heteroscedasticity robust (HC1)\n"
     ]
    }
   ],
   "source": [
    "print(ols_robust2_1.summary())"
   ]
  },
  {
   "cell_type": "code",
   "execution_count": 19,
   "metadata": {
    "deletable": false,
    "nbgrader": {
     "checksum": "aa50c77930dc22047b581349c94fd490",
     "grade": false,
     "grade_id": "Answer2_3",
     "locked": false,
     "schema_version": 1,
     "solution": true
    }
   },
   "outputs": [
    {
     "name": "stdout",
     "output_type": "stream",
     "text": [
      "                            OLS Regression Results                            \n",
      "==============================================================================\n",
      "Dep. Variable:           ln_race_time   R-squared:                       0.464\n",
      "Model:                            OLS   Adj. R-squared:                  0.464\n",
      "Method:                 Least Squares   F-statistic:                     3824.\n",
      "Date:                Sat, 12 Jun 2021   Prob (F-statistic):               0.00\n",
      "Time:                        00:07:39   Log-Likelihood:                 21081.\n",
      "No. Observations:               24699   AIC:                        -4.215e+04\n",
      "Df Residuals:                   24693   BIC:                        -4.210e+04\n",
      "Df Model:                           5                                         \n",
      "Covariance Type:                  HC1                                         \n",
      "================================================================================\n",
      "                   coef    std err          t      P>|t|      [0.025      0.975]\n",
      "--------------------------------------------------------------------------------\n",
      "Intercept        9.9345      0.003   2861.720      0.000       9.928       9.941\n",
      "vaporfly        -0.0426      0.001    -31.883      0.000      -0.045      -0.040\n",
      "male            -0.1296      0.001    -94.077      0.000      -0.132      -0.127\n",
      "seasoned        -0.0889      0.002    -45.999      0.000      -0.093      -0.085\n",
      "enthusiastic    -0.0548      0.003    -17.544      0.000      -0.061      -0.049\n",
      "age             -0.0086      0.000    -84.237      0.000      -0.009      -0.008\n",
      "==============================================================================\n",
      "Omnibus:                      570.884   Durbin-Watson:                   1.993\n",
      "Prob(Omnibus):                  0.000   Jarque-Bera (JB):              646.028\n",
      "Skew:                          -0.341   Prob(JB):                    5.21e-141\n",
      "Kurtosis:                       3.404   Cond. No.                         186.\n",
      "==============================================================================\n",
      "\n",
      "Notes:\n",
      "[1] Standard Errors are heteroscedasticity robust (HC1)\n"
     ]
    }
   ],
   "source": [
    "# YOUR CODE HERE\n",
    "\n",
    "\n",
    "reg = smf.ols(formula = 'ln_race_time ~ vaporfly + male + seasoned + enthusiastic + age ', data = data_marathon).fit() \n",
    "\n",
    "ols_robust3 = reg.get_robustcov_results(cov_type= 'HC1') \n",
    "\n",
    "print(ols_robust3.summary())\n",
    "\n",
    "\n"
   ]
  },
  {
   "cell_type": "markdown",
   "metadata": {
    "deletable": false,
    "editable": false,
    "nbgrader": {
     "checksum": "994abf4430da1b1d4da73f6f1f6f8782",
     "grade": false,
     "grade_id": "ManualQuestion2_3",
     "locked": true,
     "schema_version": 1,
     "solution": false
    }
   },
   "source": [
    "Compare the two coefficients in front of the treatment variable vaporfly, what do you observe? Based on your observation, are the results consistent with your previous intuitive analysis of OVB? (2 pts) \n",
    "\n",
    "**Note**: This question will be manually graded."
   ]
  },
  {
   "cell_type": "markdown",
   "metadata": {
    "deletable": false,
    "nbgrader": {
     "checksum": "4d9573ba7f300a6e74d2b0694eaaad5c",
     "grade": true,
     "grade_id": "ManualAnswer2_3",
     "locked": false,
     "points": 0,
     "schema_version": 1,
     "solution": true
    }
   },
   "source": [
    "Before controlling for age, the coefficient of the vaporfly treatment variable was -0.0658. Upon including this variable within the model, the coefficient in front of the vaporfly variable became slightly larger, increasing to a value of -0.0426. This suggests that the effect of the included variable on the omitted variable is indeed positive, as I surmised in question 2c.  "
   ]
  }
 ],
 "metadata": {
  "coursera": {
   "schema_names": [
    "mads_causal_inference_v2_assignment2"
   ]
  },
  "kernelspec": {
   "display_name": "Python 3",
   "language": "python",
   "name": "python3"
  },
  "language_info": {
   "codemirror_mode": {
    "name": "ipython",
    "version": 3
   },
   "file_extension": ".py",
   "mimetype": "text/x-python",
   "name": "python",
   "nbconvert_exporter": "python",
   "pygments_lexer": "ipython3",
   "version": "3.7.10"
  }
 },
 "nbformat": 4,
 "nbformat_minor": 2
}
