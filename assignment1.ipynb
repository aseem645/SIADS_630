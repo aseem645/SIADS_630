{
 "cells": [
  {
   "cell_type": "markdown",
   "metadata": {
    "deletable": false,
    "editable": false,
    "nbgrader": {
     "checksum": "b81e68b242f27373fbc874bac7a2d500",
     "grade": false,
     "grade_id": "Heading",
     "locked": true,
     "schema_version": 1,
     "solution": false
    }
   },
   "source": [
    "# Causal Inference\n",
    "# School of Information, University of Michigan \n",
    "## Week 1"
   ]
  },
  {
   "cell_type": "markdown",
   "metadata": {
    "deletable": false,
    "editable": false,
    "nbgrader": {
     "checksum": "412b479a42b592a4a892b8988eef7f3e",
     "grade": false,
     "grade_id": "Resources",
     "locked": true,
     "schema_version": 1,
     "solution": false
    }
   },
   "source": [
    "### Resources:\n",
    " - Course Manual, which can be found in Coursera\n",
    " - [Intro to Pandas Data Structures](assets/IntroPandasStructures.pdf)\n",
    " - [Bertrand and Mullainathan, 2004](assets/BertrandMullainathan2004.pdf)"
   ]
  },
  {
   "cell_type": "markdown",
   "metadata": {
    "deletable": false,
    "editable": false,
    "nbgrader": {
     "checksum": "f898b35fb4619f8184fe7aa3be7fa0de",
     "grade": false,
     "grade_id": "BackgroundPart1",
     "locked": true,
     "schema_version": 1,
     "solution": false
    }
   },
   "source": [
    "## Part 1\n",
    "\n",
    "### Background\n",
    "\n",
    "We will be using two datasets for this assignment. The first one (lecture1_survey.csv) is an observational dataset that comes from a labor market survey conducted in Chicago and Boston in 2001. The second one (lecture1_random_exper.csv) comes from a randomized experiment conducted by Marianne Bertrand and Sendhil Mullainathan, who sent fictitious resumes out to employers in response to job adverts in Boston and Chicago in 2001. The resumes differ in various attributes including the names of the applicants, and different resumes were randomly allocated to job openings. Some of the names are distinctly white sounding and some distinctly black sounding.\n"
   ]
  },
  {
   "cell_type": "markdown",
   "metadata": {
    "deletable": false,
    "editable": false,
    "nbgrader": {
     "checksum": "0f412e2ac4341a9ab051ac07351c2f74",
     "grade": false,
     "grade_id": "DataPart1",
     "locked": true,
     "schema_version": 1,
     "solution": false
    }
   },
   "source": [
    "### Data\n",
    "\n",
    "The data file “lecture_1_survey.csv” contains 4 variables for 10,593 individuals. Below are descriptions of each variable in the data:\n",
    "\n",
    "- *black*: dummy variable for race; equal to 0 if white, 1 if black\n",
    "- *yearsexp*: years of work experience\n",
    "- *somecol_more*: 1 if college dropout or college degree or college degree and more, 0 otherwise\n",
    "- *employed*: 1 is employed, 0 if unemployed"
   ]
  },
  {
   "cell_type": "code",
   "execution_count": 1,
   "metadata": {
    "deletable": false,
    "editable": false,
    "nbgrader": {
     "checksum": "45c89ab0ee1ec75d471f1cc39403257a",
     "grade": false,
     "grade_id": "ImportStatements",
     "locked": true,
     "schema_version": 1,
     "solution": false
    }
   },
   "outputs": [],
   "source": [
    "#Import statements. Run this cell.\n",
    "\n",
    "import pandas as pd\n",
    "import numpy as np\n",
    "import statsmodels.api as sm\n",
    "import statsmodels.stats.api as sms\n",
    "from scipy import stats"
   ]
  },
  {
   "cell_type": "code",
   "execution_count": 2,
   "metadata": {},
   "outputs": [],
   "source": [
    "pd.set_option('display.max_rows', None)\n",
    "pd.set_option('display.max_columns', None)"
   ]
  },
  {
   "cell_type": "code",
   "execution_count": 3,
   "metadata": {},
   "outputs": [],
   "source": [
    "#Run this cell to get the data for Part 1.\n",
    "data_survey = pd.read_csv('assets/lecture1_survey.csv')\n",
    "\n",
    "#The line below lets you see the first five lines of the data_survey dataframe. Uncomment and run to view.\n",
    "#data_survey.head()"
   ]
  },
  {
   "cell_type": "markdown",
   "metadata": {
    "deletable": false,
    "editable": false,
    "nbgrader": {
     "checksum": "799ae898613d68be9f67e686ef49f1aa",
     "grade": false,
     "grade_id": "QuestionPart1",
     "locked": true,
     "schema_version": 1,
     "solution": false
    }
   },
   "source": [
    "### Questions\n",
    "\n",
    "We are interested in exploring whether there is racial discrimination against African-Americans in the labor market. We have two sets of data; observational (survey) and experimental that we can make use of for our investigation.\n",
    "\n",
    "**Note:** You can refer to the manual for the methods we use in the assignment if you need to.\n",
    "\n",
    "**Use the data_survey dataframe uploaded above to answer the questions in Part 1 unless otherwise specified.**"
   ]
  },
  {
   "cell_type": "markdown",
   "metadata": {
    "deletable": false,
    "editable": false,
    "nbgrader": {
     "checksum": "6c20df313199a276bfccbcb8db6bb5a2",
     "grade": false,
     "grade_id": "Question1_1",
     "locked": true,
     "schema_version": 1,
     "solution": false
    }
   },
   "source": [
    "**1.** We will start by checking for covariate balance. Use the statsmodels.stats or scipy stats module to run a (two-sided) t-test to test the following null hypothesis: the mean of *somecol_more* is the same for African-Americans and Whites. Assign the results of the ttest to the variable `ttest1_1`. (1 pt)\n",
    "\n",
    "**Note:** For this balance test, we could also use a nonparametric test (Chi-squared test for binary variables) that relies on fewer assumptions."
   ]
  },
  {
   "cell_type": "code",
   "execution_count": 4,
   "metadata": {},
   "outputs": [
    {
     "data": {
      "text/html": [
       "<div>\n",
       "<style scoped>\n",
       "    .dataframe tbody tr th:only-of-type {\n",
       "        vertical-align: middle;\n",
       "    }\n",
       "\n",
       "    .dataframe tbody tr th {\n",
       "        vertical-align: top;\n",
       "    }\n",
       "\n",
       "    .dataframe thead th {\n",
       "        text-align: right;\n",
       "    }\n",
       "</style>\n",
       "<table border=\"1\" class=\"dataframe\">\n",
       "  <thead>\n",
       "    <tr style=\"text-align: right;\">\n",
       "      <th></th>\n",
       "      <th>yearsexp</th>\n",
       "      <th>somecol_more</th>\n",
       "      <th>col_more</th>\n",
       "      <th>employed</th>\n",
       "      <th>black</th>\n",
       "    </tr>\n",
       "  </thead>\n",
       "  <tbody>\n",
       "    <tr>\n",
       "      <th>2</th>\n",
       "      <td>16</td>\n",
       "      <td>0</td>\n",
       "      <td>0</td>\n",
       "      <td>1</td>\n",
       "      <td>0</td>\n",
       "    </tr>\n",
       "    <tr>\n",
       "      <th>3</th>\n",
       "      <td>8</td>\n",
       "      <td>1</td>\n",
       "      <td>0</td>\n",
       "      <td>1</td>\n",
       "      <td>0</td>\n",
       "    </tr>\n",
       "    <tr>\n",
       "      <th>5</th>\n",
       "      <td>5</td>\n",
       "      <td>0</td>\n",
       "      <td>0</td>\n",
       "      <td>0</td>\n",
       "      <td>0</td>\n",
       "    </tr>\n",
       "    <tr>\n",
       "      <th>6</th>\n",
       "      <td>20</td>\n",
       "      <td>1</td>\n",
       "      <td>0</td>\n",
       "      <td>1</td>\n",
       "      <td>0</td>\n",
       "    </tr>\n",
       "    <tr>\n",
       "      <th>7</th>\n",
       "      <td>19</td>\n",
       "      <td>0</td>\n",
       "      <td>0</td>\n",
       "      <td>1</td>\n",
       "      <td>0</td>\n",
       "    </tr>\n",
       "  </tbody>\n",
       "</table>\n",
       "</div>"
      ],
      "text/plain": [
       "   yearsexp  somecol_more  col_more  employed  black\n",
       "2        16             0         0         1      0\n",
       "3         8             1         0         1      0\n",
       "5         5             0         0         0      0\n",
       "6        20             1         0         1      0\n",
       "7        19             0         0         1      0"
      ]
     },
     "execution_count": 4,
     "metadata": {},
     "output_type": "execute_result"
    }
   ],
   "source": [
    "data_survey_black = data_survey.loc[data_survey['black'] == 1]\n",
    "data_survey_white = data_survey.loc[data_survey['black'] == 0]\n",
    "\n",
    "data_survey_white.head()"
   ]
  },
  {
   "cell_type": "code",
   "execution_count": 5,
   "metadata": {
    "deletable": false,
    "nbgrader": {
     "checksum": "233864dcc7fd0be5f3c9330a2145598a",
     "grade": false,
     "grade_id": "Answer1_1",
     "locked": false,
     "schema_version": 1,
     "solution": true
    }
   },
   "outputs": [],
   "source": [
    "# YOUR CODE HERE\n",
    "ttest1_1 = stats.ttest_ind(data_survey_black['somecol_more'], data_survey_white['somecol_more'])\n",
    "\n"
   ]
  },
  {
   "cell_type": "code",
   "execution_count": 6,
   "metadata": {
    "deletable": false,
    "editable": false,
    "nbgrader": {
     "checksum": "75721544eda4a0698f6c7af1378fc42e",
     "grade": true,
     "grade_id": "Test1_1",
     "locked": true,
     "points": 1,
     "schema_version": 1,
     "solution": false
    }
   },
   "outputs": [],
   "source": [
    "# Hidden Tests, checking t-statistic and p-value of ttest1_1."
   ]
  },
  {
   "cell_type": "markdown",
   "metadata": {
    "deletable": false,
    "editable": false,
    "nbgrader": {
     "checksum": "a2f73089eb4eeb67aa82a10e17ac9994",
     "grade": false,
     "grade_id": "ManualQuestion1_2",
     "locked": true,
     "schema_version": 1,
     "solution": false
    }
   },
   "source": [
    "**2.** Based on the p-value, do you find evidence that this variable (somecol_more) differs between African-Americans and Whites at the 5% significance level? Explain. (i.e. report BOTH the p-value AND the decision rule based on p-value to determine if they differ at the 5% significance level) (1 pt) \n",
    " \n",
    "**Note**: This question will be manually graded."
   ]
  },
  {
   "cell_type": "markdown",
   "metadata": {
    "deletable": false,
    "nbgrader": {
     "checksum": "47939182a306d53ac9c25a5587d1c6dc",
     "grade": true,
     "grade_id": "ManualAnswer1_2",
     "locked": false,
     "points": 0,
     "schema_version": 1,
     "solution": true
    }
   },
   "source": [
    "H0: x̄ somecol_more(white) == x̄ somecol_more(black)\n",
    "H1: x̄ somecol_more(white) != x̄ somecol_more(black)\n",
    "\n",
    "t test output: Ttest_indResult(statistic=-11.24095598344323, pvalue=3.7514090837794205e-29)\n",
    "\n",
    "The p-value for this particular two sided t test is extremely small, at nearly 3.75e^-29. This implies that there is only a 3.75e^-29 chance that the results obtained are random, suggesting that it's unlikely that the means for the two groups were observed as different just by chance. Therefore, there is enough evidence to reject the null hypothesis in favor of the alternative at an alpha of 0.05, since 3.75e^-29 < 0.05."
   ]
  },
  {
   "cell_type": "markdown",
   "metadata": {
    "deletable": false,
    "editable": false,
    "nbgrader": {
     "checksum": "dcc2564352ecd0009473fa08d4a6c746",
     "grade": false,
     "grade_id": "Question1_3",
     "locked": true,
     "schema_version": 1,
     "solution": false
    }
   },
   "source": [
    "**3.** Use the statsmodel.stats or scipy stats module to run a (two-sided) t-test to test the following null hypothesis: the mean of years of experience (*yearsexp*) is the same for African-Americans and Whites. Assign the results of the ttest to the variable `ttest1_3`. (1 pt)"
   ]
  },
  {
   "cell_type": "code",
   "execution_count": 7,
   "metadata": {
    "deletable": false,
    "nbgrader": {
     "checksum": "35cb7c2555285d80ccd97ff9091c5484",
     "grade": false,
     "grade_id": "Answer1_3",
     "locked": false,
     "schema_version": 1,
     "solution": true
    }
   },
   "outputs": [
    {
     "data": {
      "text/plain": [
       "Ttest_indResult(statistic=-20.665913460336267, pvalue=4.743084195169169e-93)"
      ]
     },
     "execution_count": 7,
     "metadata": {},
     "output_type": "execute_result"
    }
   ],
   "source": [
    "# YOUR CODE HERE\n",
    "ttest1_3 = stats.ttest_ind(data_survey_black['yearsexp'], data_survey_white['yearsexp'])\n",
    "ttest1_3"
   ]
  },
  {
   "cell_type": "code",
   "execution_count": 8,
   "metadata": {
    "deletable": false,
    "editable": false,
    "nbgrader": {
     "checksum": "fc708039a4f3a75dc3f8cd87cd808ebc",
     "grade": true,
     "grade_id": "Test1_3",
     "locked": true,
     "points": 1,
     "schema_version": 1,
     "solution": false
    }
   },
   "outputs": [],
   "source": [
    "# Hidden Tests, checking the t-statistic and p-value of ttest1_3."
   ]
  },
  {
   "cell_type": "markdown",
   "metadata": {
    "deletable": false,
    "editable": false,
    "nbgrader": {
     "checksum": "2a8164e14d06cedd1f84ac718a8c8d07",
     "grade": false,
     "grade_id": "ManualQuestion1_4",
     "locked": true,
     "schema_version": 1,
     "solution": false
    }
   },
   "source": [
    "**4.** Based on the t-statistic, do you find evidence that this variable (yearsexp) differs between African-Americans and Whites at the 5% significance level? Explain. (i.e. report BOTH the t-statistic AND the decision rule based on t-statistic to determine if they differ at the 5% significance level) (1 pt) \n",
    "\n",
    "**Note**: This question will be manually graded"
   ]
  },
  {
   "cell_type": "markdown",
   "metadata": {
    "deletable": false,
    "nbgrader": {
     "checksum": "47eccea8d6061811705d67ae5fbbab93",
     "grade": true,
     "grade_id": "ManualAnswer1_4",
     "locked": false,
     "points": 0,
     "schema_version": 1,
     "solution": true
    }
   },
   "source": [
    "H0: x̄ yearsexp(white) == x̄ yearsexp(black)\n",
    "H1: x̄ yearsexp(white) != x̄ yearsexp(black)\n",
    "\n",
    "Ttest_indResult(statistic=-20.665913460336267, pvalue=4.743084195169169e-93)\n",
    "\n",
    "\n",
    "The p-value for this particular two sided t test is extremely small, at nearly 4.75e^-93 . This implies that there is only a 4.75e^-93 chance that the results obtained are random, suggesting that it's unlikely that the means for the two groups were observed as different just by chance. Therefore, there is enough evidence to reject the null hypothesis in favor of the alternative at an alpha of 0.05, since 4.75e^-93  < 0.05."
   ]
  },
  {
   "cell_type": "markdown",
   "metadata": {
    "deletable": false,
    "editable": false,
    "nbgrader": {
     "checksum": "53d4efdb4ae5ab61cae8f8c28b751109",
     "grade": false,
     "grade_id": "ManualQuestion1_5",
     "locked": true,
     "schema_version": 1,
     "solution": false
    }
   },
   "source": [
    "**5.** Discuss your results from 1 and 3 above. Why do we care about whether these variables look similar by race for the purpose of investigating racial discrimination in the labor market? (1 pt) \n",
    "\n",
    "**Note**: This question will be manually graded."
   ]
  },
  {
   "cell_type": "markdown",
   "metadata": {
    "deletable": false,
    "nbgrader": {
     "checksum": "7d7e98016d9191b2b78168b2000a69d9",
     "grade": true,
     "grade_id": "ManualAnswer1_5",
     "locked": false,
     "points": 0,
     "schema_version": 1,
     "solution": true
    }
   },
   "source": [
    "It is important to take differences between these two variables into account amongst participants who self-identify as white and black respectively in order to prevent potential bias in HR recruiting systems, among other things. Specifically, if a recruiting platform is automated to root out applicants below a certain education/work experience threshold, this may have the unintended consequence of excluding cer"
   ]
  },
  {
   "cell_type": "markdown",
   "metadata": {
    "deletable": false,
    "editable": false,
    "nbgrader": {
     "checksum": "717aa9b2f16f2e464727c045c9ca1642",
     "grade": false,
     "grade_id": "Question1_6",
     "locked": true,
     "schema_version": 1,
     "solution": false
    }
   },
   "source": [
    "**6.** The main outcome variable is the indicator variable for employment status (*employed*). Use the statsmodel.stats or scipy stats module to run a (two-sided) t-test to test the null hypothesis that the means for the variable *employed* are the same for the two races."
   ]
  },
  {
   "cell_type": "code",
   "execution_count": 9,
   "metadata": {
    "deletable": false,
    "nbgrader": {
     "checksum": "060e430c2b4b645efdf1584025aa4cf9",
     "grade": false,
     "grade_id": "Answer1_6",
     "locked": false,
     "schema_version": 1,
     "solution": true
    }
   },
   "outputs": [],
   "source": [
    "# YOUR CODE HERE\n",
    "ttest1_6 = stats.ttest_ind(data_survey_black['employed'], data_survey_white['employed'])\n"
   ]
  },
  {
   "cell_type": "markdown",
   "metadata": {
    "deletable": false,
    "editable": false,
    "nbgrader": {
     "checksum": "35293877803254eaf0237a0c7072a5f6",
     "grade": false,
     "grade_id": "ManualQuestion1_6",
     "locked": true,
     "schema_version": 1,
     "solution": false
    }
   },
   "source": [
    "Based on the p-value above, do you find evidence that this variable differs significantly at 5% level between races? Explain. (i.e. report BOTH the p-value AND the decision rule based on p-value to determine if they differ at the 5% significance level) (1 pt) \n",
    "\n",
    "**Note**: This question will be manually graded."
   ]
  },
  {
   "cell_type": "markdown",
   "metadata": {
    "deletable": false,
    "nbgrader": {
     "checksum": "e9ecd536c010483a46511d6f8d8365c8",
     "grade": true,
     "grade_id": "ManualAnswer1_6",
     "locked": false,
     "points": 0,
     "schema_version": 1,
     "solution": true
    }
   },
   "source": [
    "H0: x̄ employed(white) == x̄ employed(black)\n",
    "H1: x̄ employed(white) != x̄ employed(black)\n",
    "\n",
    "\n",
    "Ttest_indResult(statistic=-7.1420030594715485, pvalue=9.802071342176244e-13)\n",
    "\n",
    "\n",
    "\n",
    "The p-value for this particular two sided t test is extremely small, at nearly 9.80^-13 . This implies that there is only a 9.80^-13 chance that the results obtained are random, suggesting that it's unlikely that the means for the two groups were observed as different just by chance. Therefore, there is enough evidence to reject the null hypothesis in favor of the alternative at an alpha of 0.05, since 9.80^-13  < 0.05."
   ]
  },
  {
   "cell_type": "markdown",
   "metadata": {
    "deletable": false,
    "editable": false,
    "nbgrader": {
     "checksum": "a07b3d3403ffcfccecc03d144ae000f3",
     "grade": false,
     "grade_id": "Question1_7",
     "locked": true,
     "schema_version": 1,
     "solution": false
    }
   },
   "source": [
    "**7.** In light of your results, can we conclude from the observational (survey) data that there is racial discrimination against African-Americans in employment? Yes or no? Explain. (1 pt) \n",
    "\n",
    "**Note**: This question will be manually graded."
   ]
  },
  {
   "cell_type": "markdown",
   "metadata": {
    "deletable": false,
    "nbgrader": {
     "checksum": "9687e3de66ffaab66dbcfd7584ab38a6",
     "grade": true,
     "grade_id": "Answer1_7",
     "locked": false,
     "points": 0,
     "schema_version": 1,
     "solution": true
    }
   },
   "source": [
    "Setting aside my personal feelings regarding the subject(that sytemic discrimination within the job market is quite real), based on the results calculated above, it is very salient that there is a differential between the education status, years of prior work experience, and most importantly, employment status of white individuals versus black individuals. However, it is difficult to comment on the magnitude of such an effect, as the p values reported do not capture any information regarding effect size(mean1-mean2/SD for one of the groups). Furthermore, in some respects, it may be more insightful to conduct a survey utilizing black/white participants with equivalent levels of education and experience, in order to better isolate potential discrimination(employed vs not employed). In sum, while it is clear that there is a differential in employment status between the two groups, it is difficult to comment on the nature of said differential(whether it is on account of discrimination or otherwise.)  "
   ]
  },
  {
   "cell_type": "markdown",
   "metadata": {
    "deletable": false,
    "editable": false,
    "nbgrader": {
     "checksum": "4e3d67fe9fa8cea4e852d0898e1c59cb",
     "grade": false,
     "grade_id": "DataPart2",
     "locked": true,
     "schema_version": 1,
     "solution": false
    }
   },
   "source": [
    "## Part 2\n",
    "### Data\n",
    "\n",
    "The data file “lecture1_random_exper.csv” contains 7 variables for 4,870 observations. Below are descriptions of each variable in the data:\n",
    "\n",
    "* *id*: a de-identified identifier to represent unique observations (resumes)\n",
    "* *male*: dummy variable for gender; equal to 0 if female, 1 if male\n",
    "* *black*: dummy variable for race; equal to 0 if resume has a white sounding name and 1 if resume has a black sounding name\n",
    "* *education*: 0 if not reported, 1 if high school dropout, 2 if high school graduate, 3 if college dropout, 4 if has college degree or more\n",
    "* *computerskills*: 1 if resume mentions some computer skills, 0 otherwise\n",
    "* *ofjobs*: number of jobs listed on the resume\n",
    "* *yearsexp*: number of years of work experience on the resume\n",
    "* *call*: 1 if applicant was called back, 0 otherwise"
   ]
  },
  {
   "cell_type": "code",
   "execution_count": 10,
   "metadata": {},
   "outputs": [],
   "source": [
    "#Run this cell to get the data for Part 2.\n",
    "data_random = pd.read_csv('assets/lecture1_random_exper.csv')\n",
    "\n",
    "#The line below lets you see the first five lines of the data_random. Uncomment and run to view.\n",
    "#data_random.head()"
   ]
  },
  {
   "cell_type": "markdown",
   "metadata": {
    "deletable": false,
    "editable": false,
    "nbgrader": {
     "checksum": "7aa12923ae4201cdefa065d39cc60521",
     "grade": false,
     "grade_id": "QuestionsPart2",
     "locked": true,
     "schema_version": 1,
     "solution": false
    }
   },
   "source": [
    "### Questions\n",
    "\n",
    "In (Bertrand and Mullainathan 2004), researchers were interested to learn whether black sounding names obtain fewer callbacks for interviews than white sounding names.\n",
    "\n",
    "**Use the data_random dataframe uploaded above to answer the questions in Part 2 unless otherwise specified.**"
   ]
  },
  {
   "cell_type": "markdown",
   "metadata": {
    "deletable": false,
    "editable": false,
    "nbgrader": {
     "checksum": "88bdcbf8ff53d46fec5a678b8c6998e1",
     "grade": false,
     "grade_id": "Question2_1",
     "locked": true,
     "schema_version": 1,
     "solution": false
    }
   },
   "source": [
    "**1.** What is the treatment variable ($D_{i}$)? Assign the correct data_random column to the variable `d_i`. What is the outcome variable ($Y_{i}$)? Assign the correct data_random column to the variable `y_i`. (1 pt)"
   ]
  },
  {
   "cell_type": "code",
   "execution_count": 11,
   "metadata": {},
   "outputs": [
    {
     "data": {
      "text/html": [
       "<div>\n",
       "<style scoped>\n",
       "    .dataframe tbody tr th:only-of-type {\n",
       "        vertical-align: middle;\n",
       "    }\n",
       "\n",
       "    .dataframe tbody tr th {\n",
       "        vertical-align: top;\n",
       "    }\n",
       "\n",
       "    .dataframe thead th {\n",
       "        text-align: right;\n",
       "    }\n",
       "</style>\n",
       "<table border=\"1\" class=\"dataframe\">\n",
       "  <thead>\n",
       "    <tr style=\"text-align: right;\">\n",
       "      <th></th>\n",
       "      <th>education</th>\n",
       "      <th>ofjobs</th>\n",
       "      <th>yearsexp</th>\n",
       "      <th>computerskills</th>\n",
       "      <th>call</th>\n",
       "      <th>id</th>\n",
       "      <th>male</th>\n",
       "      <th>black</th>\n",
       "    </tr>\n",
       "  </thead>\n",
       "  <tbody>\n",
       "    <tr>\n",
       "      <th>0</th>\n",
       "      <td>4</td>\n",
       "      <td>2</td>\n",
       "      <td>6</td>\n",
       "      <td>1</td>\n",
       "      <td>0</td>\n",
       "      <td>1</td>\n",
       "      <td>0</td>\n",
       "      <td>0</td>\n",
       "    </tr>\n",
       "    <tr>\n",
       "      <th>1</th>\n",
       "      <td>3</td>\n",
       "      <td>3</td>\n",
       "      <td>6</td>\n",
       "      <td>1</td>\n",
       "      <td>0</td>\n",
       "      <td>2</td>\n",
       "      <td>0</td>\n",
       "      <td>0</td>\n",
       "    </tr>\n",
       "    <tr>\n",
       "      <th>2</th>\n",
       "      <td>4</td>\n",
       "      <td>1</td>\n",
       "      <td>6</td>\n",
       "      <td>1</td>\n",
       "      <td>0</td>\n",
       "      <td>3</td>\n",
       "      <td>0</td>\n",
       "      <td>1</td>\n",
       "    </tr>\n",
       "    <tr>\n",
       "      <th>3</th>\n",
       "      <td>3</td>\n",
       "      <td>4</td>\n",
       "      <td>6</td>\n",
       "      <td>1</td>\n",
       "      <td>0</td>\n",
       "      <td>4</td>\n",
       "      <td>0</td>\n",
       "      <td>1</td>\n",
       "    </tr>\n",
       "    <tr>\n",
       "      <th>4</th>\n",
       "      <td>3</td>\n",
       "      <td>3</td>\n",
       "      <td>22</td>\n",
       "      <td>1</td>\n",
       "      <td>0</td>\n",
       "      <td>5</td>\n",
       "      <td>0</td>\n",
       "      <td>0</td>\n",
       "    </tr>\n",
       "  </tbody>\n",
       "</table>\n",
       "</div>"
      ],
      "text/plain": [
       "   education  ofjobs  yearsexp  computerskills  call  id  male  black\n",
       "0          4       2         6               1     0   1     0      0\n",
       "1          3       3         6               1     0   2     0      0\n",
       "2          4       1         6               1     0   3     0      1\n",
       "3          3       4         6               1     0   4     0      1\n",
       "4          3       3        22               1     0   5     0      0"
      ]
     },
     "execution_count": 11,
     "metadata": {},
     "output_type": "execute_result"
    }
   ],
   "source": [
    "data_random.head()"
   ]
  },
  {
   "cell_type": "code",
   "execution_count": 12,
   "metadata": {
    "deletable": false,
    "nbgrader": {
     "checksum": "bb3ebd8d95ef7f3e57f306fc82f536d5",
     "grade": false,
     "grade_id": "Answer2_1",
     "locked": false,
     "schema_version": 1,
     "solution": true
    }
   },
   "outputs": [],
   "source": [
    "# YOUR CODE HERE\n",
    "y_i = data_random['call']\n",
    "d_i = data_random['black']"
   ]
  },
  {
   "cell_type": "code",
   "execution_count": 13,
   "metadata": {
    "deletable": false,
    "editable": false,
    "nbgrader": {
     "checksum": "447985cec81d81f0559e61b5171238ef",
     "grade": true,
     "grade_id": "Test2_1",
     "locked": true,
     "points": 1,
     "schema_version": 1,
     "solution": false
    }
   },
   "outputs": [],
   "source": [
    "# Hidden Tests, checking the columns assigned to d_i and y_i."
   ]
  },
  {
   "cell_type": "markdown",
   "metadata": {
    "deletable": false,
    "editable": false,
    "nbgrader": {
     "checksum": "df03233609c39dd1c2e824be3c04413b",
     "grade": false,
     "grade_id": "ManualQuestion2_2",
     "locked": true,
     "schema_version": 1,
     "solution": false
    }
   },
   "source": [
    "**2.** Remember the potential outcomes framework. By using the `loc` method, check for the treatment status of observation/individual id = 345. Based on what you see, what is the counterfactual outcome for observation/individual id =345, $Y_{345}^{black}$ or $Y_{345}^{white}$? (You can type “Y^b345” for $Y_{345}^{black}$ and “Y^w_345” for $Y_{345}^{white}$.) (1 pt)\n",
    "\n",
    "**Note**: This question will be manually graded."
   ]
  },
  {
   "cell_type": "code",
   "execution_count": 14,
   "metadata": {},
   "outputs": [
    {
     "data": {
      "text/html": [
       "<div>\n",
       "<style scoped>\n",
       "    .dataframe tbody tr th:only-of-type {\n",
       "        vertical-align: middle;\n",
       "    }\n",
       "\n",
       "    .dataframe tbody tr th {\n",
       "        vertical-align: top;\n",
       "    }\n",
       "\n",
       "    .dataframe thead th {\n",
       "        text-align: right;\n",
       "    }\n",
       "</style>\n",
       "<table border=\"1\" class=\"dataframe\">\n",
       "  <thead>\n",
       "    <tr style=\"text-align: right;\">\n",
       "      <th></th>\n",
       "      <th>education</th>\n",
       "      <th>ofjobs</th>\n",
       "      <th>yearsexp</th>\n",
       "      <th>computerskills</th>\n",
       "      <th>call</th>\n",
       "      <th>id</th>\n",
       "      <th>male</th>\n",
       "      <th>black</th>\n",
       "    </tr>\n",
       "  </thead>\n",
       "  <tbody>\n",
       "    <tr>\n",
       "      <th>344</th>\n",
       "      <td>4</td>\n",
       "      <td>3</td>\n",
       "      <td>7</td>\n",
       "      <td>1</td>\n",
       "      <td>0</td>\n",
       "      <td>345</td>\n",
       "      <td>0</td>\n",
       "      <td>1</td>\n",
       "    </tr>\n",
       "  </tbody>\n",
       "</table>\n",
       "</div>"
      ],
      "text/plain": [
       "     education  ofjobs  yearsexp  computerskills  call   id  male  black\n",
       "344          4       3         7               1     0  345     0      1"
      ]
     },
     "execution_count": 14,
     "metadata": {},
     "output_type": "execute_result"
    }
   ],
   "source": [
    "data_random_345 = data_random.loc[data_random['id'] == 345]\n",
    "data_random_345"
   ]
  },
  {
   "cell_type": "markdown",
   "metadata": {
    "deletable": false,
    "nbgrader": {
     "checksum": "6d59ecca1f970b98db0476e1f66b6bb3",
     "grade": true,
     "grade_id": "ManualAnswer2_2",
     "locked": false,
     "points": 0,
     "schema_version": 1,
     "solution": true
    }
   },
   "source": [
    "For the individual with id 345, the \"actual\" outcome is Y^b345. Therefore, the counterfactual outcome would be the opposite, Y^w345."
   ]
  },
  {
   "cell_type": "markdown",
   "metadata": {
    "deletable": false,
    "editable": false,
    "nbgrader": {
     "checksum": "506d834f9098c542d342c5414787a4b0",
     "grade": false,
     "grade_id": "Question2_3a",
     "locked": true,
     "schema_version": 1,
     "solution": false
    }
   },
   "source": [
    "**3.** Researchers designed the experiment such that the treatment and control groups are balanced on all other variables that can affect callback rates.\n",
    "\n",
    "**3a.** Cross tabulate variables *male*, *computerskills*, *education*, and *ofjobs* with the variable *black*.\n",
    "\n",
    "**Tip:** Use ``pd.crosstab()``. An example of a cross-tabulated table is shown below.\n",
    "\n",
    "\n",
    "![Male variable cross-tabulated with black variable](assets/crosstab_example.png)\n"
   ]
  },
  {
   "cell_type": "code",
   "execution_count": 15,
   "metadata": {
    "deletable": false,
    "nbgrader": {
     "checksum": "2455292b9d2ca524c3387636a0e9cfc9",
     "grade": false,
     "grade_id": "Answer2_3a",
     "locked": false,
     "schema_version": 1,
     "solution": true
    }
   },
   "outputs": [
    {
     "data": {
      "text/html": [
       "<div>\n",
       "<style scoped>\n",
       "    .dataframe tbody tr th:only-of-type {\n",
       "        vertical-align: middle;\n",
       "    }\n",
       "\n",
       "    .dataframe tbody tr th {\n",
       "        vertical-align: top;\n",
       "    }\n",
       "\n",
       "    .dataframe thead th {\n",
       "        text-align: right;\n",
       "    }\n",
       "</style>\n",
       "<table border=\"1\" class=\"dataframe\">\n",
       "  <thead>\n",
       "    <tr style=\"text-align: right;\">\n",
       "      <th>black</th>\n",
       "      <th>0</th>\n",
       "      <th>1</th>\n",
       "    </tr>\n",
       "    <tr>\n",
       "      <th>male</th>\n",
       "      <th></th>\n",
       "      <th></th>\n",
       "    </tr>\n",
       "  </thead>\n",
       "  <tbody>\n",
       "    <tr>\n",
       "      <th>0</th>\n",
       "      <td>1860</td>\n",
       "      <td>1886</td>\n",
       "    </tr>\n",
       "    <tr>\n",
       "      <th>1</th>\n",
       "      <td>575</td>\n",
       "      <td>549</td>\n",
       "    </tr>\n",
       "  </tbody>\n",
       "</table>\n",
       "</div>"
      ],
      "text/plain": [
       "black     0     1\n",
       "male             \n",
       "0      1860  1886\n",
       "1       575   549"
      ]
     },
     "execution_count": 15,
     "metadata": {},
     "output_type": "execute_result"
    }
   ],
   "source": [
    "# YOUR CODE HERE\n",
    "\n",
    "\n",
    "data_crosstab_male = pd.crosstab(data_random['male'], data_random['black'])\n",
    "\n",
    "data_crosstab_male"
   ]
  },
  {
   "cell_type": "code",
   "execution_count": 16,
   "metadata": {},
   "outputs": [
    {
     "data": {
      "text/html": [
       "<div>\n",
       "<style scoped>\n",
       "    .dataframe tbody tr th:only-of-type {\n",
       "        vertical-align: middle;\n",
       "    }\n",
       "\n",
       "    .dataframe tbody tr th {\n",
       "        vertical-align: top;\n",
       "    }\n",
       "\n",
       "    .dataframe thead th {\n",
       "        text-align: right;\n",
       "    }\n",
       "</style>\n",
       "<table border=\"1\" class=\"dataframe\">\n",
       "  <thead>\n",
       "    <tr style=\"text-align: right;\">\n",
       "      <th>black</th>\n",
       "      <th>0</th>\n",
       "      <th>1</th>\n",
       "    </tr>\n",
       "    <tr>\n",
       "      <th>computerskills</th>\n",
       "      <th></th>\n",
       "      <th></th>\n",
       "    </tr>\n",
       "  </thead>\n",
       "  <tbody>\n",
       "    <tr>\n",
       "      <th>0</th>\n",
       "      <td>466</td>\n",
       "      <td>408</td>\n",
       "    </tr>\n",
       "    <tr>\n",
       "      <th>1</th>\n",
       "      <td>1969</td>\n",
       "      <td>2027</td>\n",
       "    </tr>\n",
       "  </tbody>\n",
       "</table>\n",
       "</div>"
      ],
      "text/plain": [
       "black              0     1\n",
       "computerskills            \n",
       "0                466   408\n",
       "1               1969  2027"
      ]
     },
     "execution_count": 16,
     "metadata": {},
     "output_type": "execute_result"
    }
   ],
   "source": [
    "data_crosstab_computerskills = pd.crosstab(data_random['computerskills'], data_random['black'])\n",
    "\n",
    "data_crosstab_computerskills"
   ]
  },
  {
   "cell_type": "code",
   "execution_count": 17,
   "metadata": {},
   "outputs": [
    {
     "data": {
      "text/html": [
       "<div>\n",
       "<style scoped>\n",
       "    .dataframe tbody tr th:only-of-type {\n",
       "        vertical-align: middle;\n",
       "    }\n",
       "\n",
       "    .dataframe tbody tr th {\n",
       "        vertical-align: top;\n",
       "    }\n",
       "\n",
       "    .dataframe thead th {\n",
       "        text-align: right;\n",
       "    }\n",
       "</style>\n",
       "<table border=\"1\" class=\"dataframe\">\n",
       "  <thead>\n",
       "    <tr style=\"text-align: right;\">\n",
       "      <th>black</th>\n",
       "      <th>0</th>\n",
       "      <th>1</th>\n",
       "    </tr>\n",
       "    <tr>\n",
       "      <th>education</th>\n",
       "      <th></th>\n",
       "      <th></th>\n",
       "    </tr>\n",
       "  </thead>\n",
       "  <tbody>\n",
       "    <tr>\n",
       "      <th>0</th>\n",
       "      <td>18</td>\n",
       "      <td>28</td>\n",
       "    </tr>\n",
       "    <tr>\n",
       "      <th>1</th>\n",
       "      <td>18</td>\n",
       "      <td>22</td>\n",
       "    </tr>\n",
       "    <tr>\n",
       "      <th>2</th>\n",
       "      <td>142</td>\n",
       "      <td>132</td>\n",
       "    </tr>\n",
       "    <tr>\n",
       "      <th>3</th>\n",
       "      <td>513</td>\n",
       "      <td>493</td>\n",
       "    </tr>\n",
       "    <tr>\n",
       "      <th>4</th>\n",
       "      <td>1744</td>\n",
       "      <td>1760</td>\n",
       "    </tr>\n",
       "  </tbody>\n",
       "</table>\n",
       "</div>"
      ],
      "text/plain": [
       "black         0     1\n",
       "education            \n",
       "0            18    28\n",
       "1            18    22\n",
       "2           142   132\n",
       "3           513   493\n",
       "4          1744  1760"
      ]
     },
     "execution_count": 17,
     "metadata": {},
     "output_type": "execute_result"
    }
   ],
   "source": [
    "data_crosstab_education = pd.crosstab(data_random['education'], data_random['black'])\n",
    "\n",
    "data_crosstab_education"
   ]
  },
  {
   "cell_type": "code",
   "execution_count": 18,
   "metadata": {},
   "outputs": [
    {
     "data": {
      "text/html": [
       "<div>\n",
       "<style scoped>\n",
       "    .dataframe tbody tr th:only-of-type {\n",
       "        vertical-align: middle;\n",
       "    }\n",
       "\n",
       "    .dataframe tbody tr th {\n",
       "        vertical-align: top;\n",
       "    }\n",
       "\n",
       "    .dataframe thead th {\n",
       "        text-align: right;\n",
       "    }\n",
       "</style>\n",
       "<table border=\"1\" class=\"dataframe\">\n",
       "  <thead>\n",
       "    <tr style=\"text-align: right;\">\n",
       "      <th>black</th>\n",
       "      <th>0</th>\n",
       "      <th>1</th>\n",
       "    </tr>\n",
       "    <tr>\n",
       "      <th>ofjobs</th>\n",
       "      <th></th>\n",
       "      <th></th>\n",
       "    </tr>\n",
       "  </thead>\n",
       "  <tbody>\n",
       "    <tr>\n",
       "      <th>1</th>\n",
       "      <td>54</td>\n",
       "      <td>56</td>\n",
       "    </tr>\n",
       "    <tr>\n",
       "      <th>2</th>\n",
       "      <td>347</td>\n",
       "      <td>357</td>\n",
       "    </tr>\n",
       "    <tr>\n",
       "      <th>3</th>\n",
       "      <td>726</td>\n",
       "      <td>703</td>\n",
       "    </tr>\n",
       "    <tr>\n",
       "      <th>4</th>\n",
       "      <td>800</td>\n",
       "      <td>811</td>\n",
       "    </tr>\n",
       "    <tr>\n",
       "      <th>5</th>\n",
       "      <td>258</td>\n",
       "      <td>275</td>\n",
       "    </tr>\n",
       "    <tr>\n",
       "      <th>6</th>\n",
       "      <td>243</td>\n",
       "      <td>221</td>\n",
       "    </tr>\n",
       "    <tr>\n",
       "      <th>7</th>\n",
       "      <td>7</td>\n",
       "      <td>12</td>\n",
       "    </tr>\n",
       "  </tbody>\n",
       "</table>\n",
       "</div>"
      ],
      "text/plain": [
       "black     0    1\n",
       "ofjobs          \n",
       "1        54   56\n",
       "2       347  357\n",
       "3       726  703\n",
       "4       800  811\n",
       "5       258  275\n",
       "6       243  221\n",
       "7         7   12"
      ]
     },
     "execution_count": 18,
     "metadata": {},
     "output_type": "execute_result"
    }
   ],
   "source": [
    "data_crosstab_ofjobs = pd.crosstab(data_random['ofjobs'], data_random['black'])\n",
    "\n",
    "data_crosstab_ofjobs"
   ]
  },
  {
   "cell_type": "markdown",
   "metadata": {
    "deletable": false,
    "editable": false,
    "nbgrader": {
     "checksum": "cdb451a3ab196880cb94ce2a33c8e9a6",
     "grade": false,
     "grade_id": "ManualQuestion2_3a",
     "locked": true,
     "schema_version": 1,
     "solution": false
    }
   },
   "source": [
    "Do these variables look similar by race? (1 pt)\n",
    "\n",
    "**Note**: This question will be manually graded."
   ]
  },
  {
   "cell_type": "markdown",
   "metadata": {
    "deletable": false,
    "nbgrader": {
     "checksum": "baeb8887cac9d96f793278ed4cf7e66d",
     "grade": true,
     "grade_id": "ManualAnswer2_3a",
     "locked": false,
     "points": 0,
     "schema_version": 1,
     "solution": true
    }
   },
   "source": [
    "Visually speaking, there doesn't seem to be eye catching differences between these variables regardless of race. For any given gender, computer literacy, education level, and number of jobs held, there are no major numerical differences for white and black respondents. Notably, however, it does appear as if the vast majority of respondents in the data are female, as indicated by the data_crosstab_male table(3746 total reported for female and 1124 for male).\n"
   ]
  },
  {
   "cell_type": "markdown",
   "metadata": {
    "deletable": false,
    "editable": false,
    "nbgrader": {
     "checksum": "27df6a190137857eacacca29fd93c5d1",
     "grade": false,
     "grade_id": "Question2_3b",
     "locked": true,
     "schema_version": 1,
     "solution": false
    }
   },
   "source": [
    "**3b.** Generate a table with the mean and standard deviation of the variable *yearsexp* for different values of black.\n",
    "\n",
    "**Tip:** Use the ``groupby()`` and ``describe()`` methods."
   ]
  },
  {
   "cell_type": "code",
   "execution_count": 19,
   "metadata": {
    "deletable": false,
    "nbgrader": {
     "checksum": "a85b9086da92a91ebf5da0a3a0edacfd",
     "grade": false,
     "grade_id": "Answer2_3b",
     "locked": false,
     "schema_version": 1,
     "solution": true
    }
   },
   "outputs": [
    {
     "data": {
      "text/html": [
       "<div>\n",
       "<style scoped>\n",
       "    .dataframe tbody tr th:only-of-type {\n",
       "        vertical-align: middle;\n",
       "    }\n",
       "\n",
       "    .dataframe tbody tr th {\n",
       "        vertical-align: top;\n",
       "    }\n",
       "\n",
       "    .dataframe thead tr th {\n",
       "        text-align: left;\n",
       "    }\n",
       "\n",
       "    .dataframe thead tr:last-of-type th {\n",
       "        text-align: right;\n",
       "    }\n",
       "</style>\n",
       "<table border=\"1\" class=\"dataframe\">\n",
       "  <thead>\n",
       "    <tr>\n",
       "      <th></th>\n",
       "      <th colspan=\"8\" halign=\"left\">yearsexp</th>\n",
       "    </tr>\n",
       "    <tr>\n",
       "      <th></th>\n",
       "      <th>count</th>\n",
       "      <th>mean</th>\n",
       "      <th>std</th>\n",
       "      <th>min</th>\n",
       "      <th>25%</th>\n",
       "      <th>50%</th>\n",
       "      <th>75%</th>\n",
       "      <th>max</th>\n",
       "    </tr>\n",
       "    <tr>\n",
       "      <th>black</th>\n",
       "      <th></th>\n",
       "      <th></th>\n",
       "      <th></th>\n",
       "      <th></th>\n",
       "      <th></th>\n",
       "      <th></th>\n",
       "      <th></th>\n",
       "      <th></th>\n",
       "    </tr>\n",
       "  </thead>\n",
       "  <tbody>\n",
       "    <tr>\n",
       "      <th>0</th>\n",
       "      <td>2435.0</td>\n",
       "      <td>7.856263</td>\n",
       "      <td>5.079228</td>\n",
       "      <td>1.0</td>\n",
       "      <td>5.0</td>\n",
       "      <td>6.0</td>\n",
       "      <td>9.0</td>\n",
       "      <td>26.0</td>\n",
       "    </tr>\n",
       "    <tr>\n",
       "      <th>1</th>\n",
       "      <td>2435.0</td>\n",
       "      <td>7.829569</td>\n",
       "      <td>5.010764</td>\n",
       "      <td>1.0</td>\n",
       "      <td>5.0</td>\n",
       "      <td>6.0</td>\n",
       "      <td>9.0</td>\n",
       "      <td>44.0</td>\n",
       "    </tr>\n",
       "  </tbody>\n",
       "</table>\n",
       "</div>"
      ],
      "text/plain": [
       "      yearsexp                                              \n",
       "         count      mean       std  min  25%  50%  75%   max\n",
       "black                                                       \n",
       "0       2435.0  7.856263  5.079228  1.0  5.0  6.0  9.0  26.0\n",
       "1       2435.0  7.829569  5.010764  1.0  5.0  6.0  9.0  44.0"
      ]
     },
     "execution_count": 19,
     "metadata": {},
     "output_type": "execute_result"
    }
   ],
   "source": [
    "# YOUR CODE HERE\n",
    "yearsexp_df =  data_random[[\"yearsexp\", \"black\"]]\n",
    "yearsexp_df = yearsexp_df.groupby('black').describe()\n",
    "yearsexp_df"
   ]
  },
  {
   "cell_type": "markdown",
   "metadata": {
    "deletable": false,
    "editable": false,
    "nbgrader": {
     "checksum": "8157448893af75dc0bfa0d63577676a3",
     "grade": false,
     "grade_id": "ManualQuestion2_3b",
     "locked": true,
     "schema_version": 1,
     "solution": false
    }
   },
   "source": [
    "Does this variable look similar by race? (1 pt)\n",
    "\n",
    "**Note**: This question will be manually graded."
   ]
  },
  {
   "cell_type": "markdown",
   "metadata": {
    "deletable": false,
    "nbgrader": {
     "checksum": "ec74aec34b156621ffe069ef3aa46f7b",
     "grade": true,
     "grade_id": "ManualAnswer2_3b",
     "locked": false,
     "points": 0,
     "schema_version": 1,
     "solution": true
    }
   },
   "source": [
    "The number of respondents for each race are identical, and the respective means and standard variations are also nearly identical. This implies that experience levels are roughly equivalent across both races. The only difference between the two races is max experience. There was at least one respondent that identified as black who had forty-four years of prior experience."
   ]
  },
  {
   "cell_type": "markdown",
   "metadata": {
    "deletable": false,
    "editable": false,
    "nbgrader": {
     "checksum": "bef79dfc52feda8a96d4332d278743f0",
     "grade": false,
     "grade_id": "Question2_4a",
     "locked": true,
     "schema_version": 1,
     "solution": false
    }
   },
   "source": [
    "**4.** The outcome variable in the data set is the variable *call*, which indicates a callback for an interview. Let’s look at the means of this variable conditional on race.\n",
    "\n",
    "**4a.** Use the statsmodel.stats or scipy stats module to run a (two-sided) t-test to test the following null hypothesis: the callback rates (means of variable *call*) are the same for resumes with black-sounding names as they are for resumes with white-sounding names. Assign the output to the variable `ttest2_4_1`. (1 pt)\n",
    "\n"
   ]
  },
  {
   "cell_type": "code",
   "execution_count": 20,
   "metadata": {
    "deletable": false,
    "nbgrader": {
     "checksum": "e6a806386a1c8b7437504f744e5f8817",
     "grade": false,
     "grade_id": "Answer2_4a",
     "locked": false,
     "schema_version": 1,
     "solution": true
    }
   },
   "outputs": [],
   "source": [
    "# YOUR CODE HERE\n",
    "\n",
    "data_random_black = data_random.loc[data_random['black'] == 1]\n",
    "data_random_white = data_random.loc[data_random['black'] == 0]\n",
    "\n",
    "\n",
    "ttest2_4_1 = stats.ttest_ind(data_random_white['call'], data_random_black['call'])\n"
   ]
  },
  {
   "cell_type": "code",
   "execution_count": 21,
   "metadata": {
    "deletable": false,
    "editable": false,
    "nbgrader": {
     "checksum": "e25ece562455656cb73a1ae8d3c8428c",
     "grade": true,
     "grade_id": "Test2_4a",
     "locked": true,
     "points": 1,
     "schema_version": 1,
     "solution": false
    }
   },
   "outputs": [],
   "source": [
    "# Hidden Tests, checking the t-statistic and p-value of ttest2_4_1."
   ]
  },
  {
   "cell_type": "markdown",
   "metadata": {
    "deletable": false,
    "editable": false,
    "nbgrader": {
     "checksum": "0b138d205440848705a5f158b678b623",
     "grade": false,
     "grade_id": "ManualQuestion2_4b",
     "locked": true,
     "schema_version": 1,
     "solution": false
    }
   },
   "source": [
    "**4b.** Based on the p-value, do you find evidence that there is discrimination in callback rates? That is, callback rates differ significantly at 5% level between resumes with white-sounding names and resumes with black-sounding names? Explain. (i.e. report BOTH the p-value AND the decision rule based on p-value to determine if they differ at the 5% significance level) (1 pt) \n",
    "\n",
    "**Note**: This question will be manually graded."
   ]
  },
  {
   "cell_type": "markdown",
   "metadata": {
    "deletable": false,
    "nbgrader": {
     "checksum": "5ad31fd3f3ee79c7af21e345e8abea74",
     "grade": true,
     "grade_id": "ManualAnswer2_4b",
     "locked": false,
     "points": 0,
     "schema_version": 1,
     "solution": true
    }
   },
   "source": [
    "H0: x̄ call(white) == x̄ call(black)\n",
    "H1: x̄ call(white) != x̄ call(black)\n",
    "\n",
    "Ttest_indResult(statistic=4.114705266723095, pvalue=3.9408025140695284e-05)\n",
    "\n",
    "The p-value for this particular two sided t test is fairly small, at nearly 3.94e^-05. This implies that there is only a 3.94e^-05 chance that the results obtained are random, suggesting that it's unlikely that the means for the two groups were observed as different just by chance. Therefore, there is enough evidence to reject the null hypothesis in favor of the alternative at an alpha of 0.05, since 3.94e^-05 < 0.05. This finding does supply some support to the claim that there is a potentially discriminatory differential in callback rates amongst particpants, especially since, upon observing the response data, education, prior job experience, number of jobs, and computer skills are quite similar between both races. "
   ]
  },
  {
   "cell_type": "markdown",
   "metadata": {
    "deletable": false,
    "editable": false,
    "nbgrader": {
     "checksum": "545e6eb1492a7ba8fb1804f34b328319",
     "grade": false,
     "grade_id": "Question2_5a",
     "locked": true,
     "schema_version": 1,
     "solution": false
    }
   },
   "source": [
    "**5.** Let’s see if the results change when we compare callback rates conditional on gender.\n",
    "\n",
    "**5a.** Use the statsmodel.stats or scipy stats module to carry out a (two-sided) t-test to test the hypothesis that callback rates are equal for females across races. Assign the result to the variable `ttest2_5_1`. (1 pt)\n",
    "\n"
   ]
  },
  {
   "cell_type": "code",
   "execution_count": 26,
   "metadata": {
    "deletable": false,
    "nbgrader": {
     "checksum": "b98e283183c13ba601cd40eaa4c1f31b",
     "grade": false,
     "grade_id": "Answer2_5a",
     "locked": false,
     "schema_version": 1,
     "solution": true
    }
   },
   "outputs": [],
   "source": [
    "# YOUR CODE HERE\n",
    "data_random_black_female = data_random.loc[(data_random[\"black\"] == 1) & (data_random[\"male\"] == 0)]\n",
    "data_random_white_female = data_random.loc[(data_random[\"black\"] == 0) & (data_random[\"male\"] == 0)]\n",
    "\n",
    "ttest2_5_1 = stats.ttest_ind(data_random_black_female['call'], data_random_white_female['call'])"
   ]
  },
  {
   "cell_type": "code",
   "execution_count": 27,
   "metadata": {},
   "outputs": [
    {
     "data": {
      "text/plain": [
       "Ttest_indResult(statistic=-3.6369213964305627, pvalue=0.0002796319942029361)"
      ]
     },
     "execution_count": 27,
     "metadata": {},
     "output_type": "execute_result"
    }
   ],
   "source": [
    "ttest2_5_1"
   ]
  },
  {
   "cell_type": "code",
   "execution_count": 28,
   "metadata": {
    "deletable": false,
    "editable": false,
    "nbgrader": {
     "checksum": "26ea03146d4a571222a936a6dc5fe92a",
     "grade": true,
     "grade_id": "Test2_5a",
     "locked": true,
     "points": 1,
     "schema_version": 1,
     "solution": false
    }
   },
   "outputs": [],
   "source": [
    "# Hidden Tests, checking the t-statistic and p-value of ttest2_5_1."
   ]
  },
  {
   "cell_type": "markdown",
   "metadata": {
    "deletable": false,
    "editable": false,
    "nbgrader": {
     "checksum": "8aac355ff16e5fe4978e64abd5de9f46",
     "grade": false,
     "grade_id": "Question2_5b",
     "locked": true,
     "schema_version": 1,
     "solution": false
    }
   },
   "source": [
    "**5b.** Use the statsmodel.stats or scipy stats module to carry out a (two-sided) t-test to test the hypothesis that callback rates are equal for males across races. Assign the result to the variable ``ttest2_5_2``. (1 pt)"
   ]
  },
  {
   "cell_type": "code",
   "execution_count": 29,
   "metadata": {
    "deletable": false,
    "nbgrader": {
     "checksum": "cfe8052b9595e2c01b222390112836ba",
     "grade": false,
     "grade_id": "Answer2_5b",
     "locked": false,
     "schema_version": 1,
     "solution": true
    }
   },
   "outputs": [],
   "source": [
    "# YOUR CODE HERE\n",
    "data_random_black_male = data_random.loc[(data_random[\"black\"] == 1) & (data_random[\"male\"] == 1)]\n",
    "data_random_white_male = data_random.loc[(data_random[\"black\"] == 0) & (data_random[\"male\"] == 1)]\n",
    "\n",
    "ttest2_5_2 = stats.ttest_ind(data_random_black_male['call'], data_random_white_male['call'])"
   ]
  },
  {
   "cell_type": "code",
   "execution_count": 30,
   "metadata": {},
   "outputs": [
    {
     "data": {
      "text/plain": [
       "Ttest_indResult(statistic=-3.6369213964305627, pvalue=0.0002796319942029361)"
      ]
     },
     "execution_count": 30,
     "metadata": {},
     "output_type": "execute_result"
    }
   ],
   "source": [
    "ttest2_5_2"
   ]
  },
  {
   "cell_type": "code",
   "execution_count": 31,
   "metadata": {
    "deletable": false,
    "editable": false,
    "nbgrader": {
     "checksum": "b859631052ad37187668476f0430c22c",
     "grade": true,
     "grade_id": "Test2_5b",
     "locked": true,
     "points": 1,
     "schema_version": 1,
     "solution": false
    }
   },
   "outputs": [],
   "source": [
    "# Hidden Tests, checking the t-statistic and p-value of ttest2_5_2."
   ]
  },
  {
   "cell_type": "code",
   "execution_count": null,
   "metadata": {},
   "outputs": [],
   "source": []
  }
 ],
 "metadata": {
  "coursera": {
   "schema_names": [
    "mads_causal_inference_v2_assignment1"
   ]
  },
  "kernelspec": {
   "display_name": "Python 3",
   "language": "python",
   "name": "python3"
  },
  "language_info": {
   "codemirror_mode": {
    "name": "ipython",
    "version": 3
   },
   "file_extension": ".py",
   "mimetype": "text/x-python",
   "name": "python",
   "nbconvert_exporter": "python",
   "pygments_lexer": "ipython3",
   "version": "3.7.10"
  }
 },
 "nbformat": 4,
 "nbformat_minor": 2
}
